{
 "cells": [
  {
   "cell_type": "markdown",
   "metadata": {},
   "source": [
    "## Explain what is null-hypothesis by mentioning an example\n",
    "\n",
    "- Answer:Imagine we have design a website with template A. The frontend developer applies changes and now the template is B.  \n",
    "\n",
    "Statisctically we know the users entraction with template A, for example we know the users click-through rate (CTR)\n",
    "\n",
    "The new template B is exposed to N new users. We gather the CTR for these new N users\n",
    "\n",
    "The null-hypothesis says that the average CTR for template B is the same as average CTR for template A\n",
    "\n",
    "The alternative-hypothesis says, with confidence of 95%, the average CTR for template B is greater than template A"
   ]
  },
  {
   "cell_type": "markdown",
   "metadata": {},
   "source": [
    "## What are the steps to reject or accept null-hypothesis\n",
    "\n",
    "1- If N > 30 or the standard-deviation (std) for templete A is known, we calculate z-score\n",
    "\n",
    "2- Obtain the survival function of Z-distribution (standard Normal) at z-score. This would be p-value\n",
    "\n",
    "3- Compare the p-value with significant level (5% for example). If p-value is less than significant level then reject the null-hypothesis\n",
    "\n",
    "4- if N< 30 we do the same steps with t-score and T-distribuction "
   ]
  },
  {
   "cell_type": "markdown",
   "metadata": {},
   "source": [
    "## What is confidence interval for mean, by mentioning an example\n",
    "\n",
    "- We have N (50) samples of sepal length for setosa, we want to obtain an interval for the mean value of sepal length and say we are 95% confident that if we gather much more samples for sepal length the mean of these population with be in `[L, U]` range"
   ]
  },
  {
   "cell_type": "markdown",
   "metadata": {},
   "source": [
    "## What is unpaired t-test, by an example\n",
    "\n",
    "- In this case, we have not applied changes, but we are comparing two groups, for example weights of female verus male. We want to say we are 95% confident that the weights of female are different than weights of male "
   ]
  },
  {
   "cell_type": "markdown",
   "metadata": {},
   "source": [
    "## A list for weights of males at Make School is given, how we do calculate the CDF for male's weight?"
   ]
  },
  {
   "cell_type": "markdown",
   "metadata": {},
   "source": [
    "## Typical final exam questions\n",
    "\n",
    "- The cumulative-density-function (CDF) of temparatures for two cities in last winter has been plotted, which city is generally colder than the other?"
   ]
  },
  {
   "cell_type": "code",
   "execution_count": null,
   "metadata": {},
   "outputs": [],
   "source": []
  }
 ],
 "metadata": {
  "kernelspec": {
   "display_name": "Python 3",
   "language": "python",
   "name": "python3"
  },
  "language_info": {
   "codemirror_mode": {
    "name": "ipython",
    "version": 3
   },
   "file_extension": ".py",
   "mimetype": "text/x-python",
   "name": "python",
   "nbconvert_exporter": "python",
   "pygments_lexer": "ipython3",
   "version": "3.7.0"
  }
 },
 "nbformat": 4,
 "nbformat_minor": 2
}
