{
 "cells": [
  {
   "cell_type": "markdown",
   "metadata": {},
   "source": [
    "# MS Summer Academy NPS Data Exploration (2016-2017)\n",
    "\n",
    "## Questsions Asked:\n",
    "\n",
    "    * How many promoters, passives, and detractors are there in both years? How do the scores differ by year?\n",
    "    * What track of students had the best experience at the summer academy? What about the worst experience?\n",
    "    * Did students feel as though the pacing increased as the program went on?\n",
    "    * Which location had the best overall experience?\n",
    "    * Did students at the NY location have a better or worse expeience as the program went on?\n",
    "  "
   ]
  },
  {
   "cell_type": "markdown",
   "metadata": {},
   "source": [
    "# General NPS Cleaning Process:\n",
    "\n",
    "- Step 1: Import, Clean, and Aggregate Weeks 1-7 for 2016 Data\n",
    "- Step 2: Import and Clean Week 8 for 2016 Data\n",
    "- Step 2.5: Aggregate Weeks 1-7 with Week 8 to produce Full 2016 Dataset\n",
    "- Step 3: Import and Clean 2017 Data\n",
    "- Step 3.5: Aggregate Full 2016 Data with 2017 Data to produce Complete Dataset"
   ]
  },
  {
   "cell_type": "markdown",
   "metadata": {},
   "source": [
    "### Promoters, Passives, Detractors for 2017: 78, 34, 8\n"
   ]
  },
  {
   "cell_type": "code",
   "execution_count": 550,
   "metadata": {},
   "outputs": [],
   "source": [
    "# Pandas is a library for basic data analysis\n",
    "import pandas as pd\n",
    "\n",
    "# NumPy is a library for advanced mathematical computation\n",
    "import numpy as np\n",
    "\n",
    "# MatPlotLib is a library for basic data visualization\n",
    "import matplotlib.pyplot as plt\n",
    "\n",
    "# SeaBorn is a library for advanced data visualization\n",
    "import seaborn as sns\n",
    "\n",
    "import glob"
   ]
  },
  {
   "cell_type": "markdown",
   "metadata": {},
   "source": [
    "### Functionalize Data Manipulation code!"
   ]
  },
  {
   "cell_type": "code",
   "execution_count": 704,
   "metadata": {},
   "outputs": [],
   "source": [
    "sns.set(style=\"white\", context=\"notebook\", palette=\"deep\")\n",
    "\n",
    "COLOR_COLUMNS = [\"#66C2FF\", \"#5CD6D6\", \"#00CC99\", \"#85E085\", \"#FFD966\", \"#FFB366\", \"#FFB3B3\", \"#DAB3FF\", \"#C2C2D6\"]\n",
    "\n",
    "sns.set_palette(palette=COLOR_COLUMNS, n_colors=4)"
   ]
  },
  {
   "cell_type": "markdown",
   "metadata": {},
   "source": [
    "# Data Cleaning and Aggregation"
   ]
  },
  {
   "cell_type": "code",
   "execution_count": 705,
   "metadata": {},
   "outputs": [],
   "source": [
    "REL_PATH_DIRECTORY = \"../datasets/SA_Feedback_Surveys_FINAL/2016/\"\n",
    "ALL_BUT_8_PATH = \"Anon*.csv\"\n",
    "\n",
    "THE_8_PATH = \"Week 8 Feedback (2016, incomplete) - results.csv\""
   ]
  },
  {
   "cell_type": "markdown",
   "metadata": {},
   "source": [
    "### Weeks 1-7 (2016)\n",
    "\n",
    "- NOTE: Data is _slightly_ different across various weeks and locations. **Approach with caution!**"
   ]
  },
  {
   "cell_type": "code",
   "execution_count": 553,
   "metadata": {},
   "outputs": [],
   "source": [
    "all_but_8_2016_files = glob.glob(REL_PATH_DIRECTORY + ALL_BUT_8_PATH)"
   ]
  },
  {
   "cell_type": "code",
   "execution_count": 554,
   "metadata": {
    "scrolled": true
   },
   "outputs": [
    {
     "data": {
      "text/plain": [
       "['../datasets/SA_Feedback_Surveys_FINAL/2016/Anon Week 7 Feedback - Taipei.csv',\n",
       " '../datasets/SA_Feedback_Surveys_FINAL/2016/Anon Week 6 Feedback - Tokyo.csv',\n",
       " '../datasets/SA_Feedback_Surveys_FINAL/2016/Anon Week 1 Feedback - Singapore.csv',\n",
       " '../datasets/SA_Feedback_Surveys_FINAL/2016/Anon Week 7 Feedback - LA.csv',\n",
       " '../datasets/SA_Feedback_Surveys_FINAL/2016/Anon Week 4 Feedback - SF.csv',\n",
       " '../datasets/SA_Feedback_Surveys_FINAL/2016/Anon Week 5 Feedback - SV.csv',\n",
       " '../datasets/SA_Feedback_Surveys_FINAL/2016/Anon Week 4 Feedback - SG.csv',\n",
       " '../datasets/SA_Feedback_Surveys_FINAL/2016/Anon Week 6 Feedback - NY.csv',\n",
       " '../datasets/SA_Feedback_Surveys_FINAL/2016/Anon Week 5 Feedback - HK.csv',\n",
       " '../datasets/SA_Feedback_Surveys_FINAL/2016/Anon Week 1 Feedback - SF.csv',\n",
       " '../datasets/SA_Feedback_Surveys_FINAL/2016/Anon Week 2 Feedback - LA.csv',\n",
       " '../datasets/SA_Feedback_Surveys_FINAL/2016/Anon Week 6 Feedback - Taipei.csv',\n",
       " '../datasets/SA_Feedback_Surveys_FINAL/2016/Anon Week 3 Feedback - NY.csv',\n",
       " '../datasets/SA_Feedback_Surveys_FINAL/2016/Anon Week 6 Feedback - LA.csv',\n",
       " '../datasets/SA_Feedback_Surveys_FINAL/2016/Anon Week 5 Feedback - SF.csv',\n",
       " '../datasets/SA_Feedback_Surveys_FINAL/2016/Anon Week 5 Feedback - SG.csv',\n",
       " '../datasets/SA_Feedback_Surveys_FINAL/2016/Anon Week 4 Feedback - SV.csv',\n",
       " '../datasets/SA_Feedback_Surveys_FINAL/2016/Anon Week 7 Feedback - NY.csv',\n",
       " '../datasets/SA_Feedback_Surveys_FINAL/2016/Anon Week 3 Feedback - LA.csv',\n",
       " '../datasets/SA_Feedback_Surveys_FINAL/2016/Anon Week 2 Feedback - NY.csv',\n",
       " '../datasets/SA_Feedback_Surveys_FINAL/2016/Anon Week 1 Feedback - SV.csv',\n",
       " '../datasets/SA_Feedback_Surveys_FINAL/2016/Anon Week 5 Feedback - LA.csv',\n",
       " '../datasets/SA_Feedback_Surveys_FINAL/2016/Anon Week 6 Feedback - SF.csv',\n",
       " '../datasets/SA_Feedback_Surveys_FINAL/2016/Anon Week 6 Feedback - SG.csv',\n",
       " '../datasets/SA_Feedback_Surveys_FINAL/2016/Anon Week 7 Feedback - SV.csv',\n",
       " '../datasets/SA_Feedback_Surveys_FINAL/2016/Anon Week 4 Feedback - NY.csv',\n",
       " '../datasets/SA_Feedback_Surveys_FINAL/2016/Anon Week 3 Feedback - SF.csv',\n",
       " '../datasets/SA_Feedback_Surveys_FINAL/2016/Anon Week 1 Feedback - NY.csv',\n",
       " '../datasets/SA_Feedback_Surveys_FINAL/2016/Anon Week 2 Feedback - SV.csv',\n",
       " '../datasets/SA_Feedback_Surveys_FINAL/2016/Anon Week 3 Feedback - SG.csv',\n",
       " '../datasets/SA_Feedback_Surveys_FINAL/2016/Anon Week 4 Feedback - LA.csv',\n",
       " '../datasets/SA_Feedback_Surveys_FINAL/2016/Anon Week 7 Feedback - SF.csv',\n",
       " '../datasets/SA_Feedback_Surveys_FINAL/2016/Anon Week 6 Feedback - SV.csv',\n",
       " '../datasets/SA_Feedback_Surveys_FINAL/2016/Anon Week 6 Feedback - HK.csv',\n",
       " '../datasets/SA_Feedback_Surveys_FINAL/2016/Anon Week 5 Feedback - NY.csv',\n",
       " '../datasets/SA_Feedback_Surveys_FINAL/2016/Anon Week 2 Feedback - SF.csv',\n",
       " '../datasets/SA_Feedback_Surveys_FINAL/2016/Anon Week 1 Feedback - LA.csv',\n",
       " '../datasets/SA_Feedback_Surveys_FINAL/2016/Anon Week 2 Feedback - SG.csv',\n",
       " '../datasets/SA_Feedback_Surveys_FINAL/2016/Anon Week 3 Feedback - SV.csv']"
      ]
     },
     "execution_count": 554,
     "metadata": {},
     "output_type": "execute_result"
    }
   ],
   "source": [
    "all_but_8_2016_files"
   ]
  },
  {
   "cell_type": "markdown",
   "metadata": {},
   "source": [
    "## GOAL: Place _Week_ and _Location_ data in each 2016 (not Week 8) DF"
   ]
  },
  {
   "cell_type": "code",
   "execution_count": 555,
   "metadata": {},
   "outputs": [],
   "source": [
    "filename = \"Anon Week 1 Feedback - LA.csv\"\n",
    "fileparts = filename.split(\" \")\n",
    "\n",
    "test_file_path = REL_PATH_DIRECTORY + filename\n",
    "df_test = pd.read_csv(test_file_path)"
   ]
  },
  {
   "cell_type": "code",
   "execution_count": 556,
   "metadata": {},
   "outputs": [],
   "source": [
    "week_num, location = int(fileparts[2]), fileparts[5].split(\".\")[0]"
   ]
  },
  {
   "cell_type": "code",
   "execution_count": 557,
   "metadata": {},
   "outputs": [],
   "source": [
    "def read_all_files():\n",
    "    data_arr = list()\n",
    "    for filename in all_but_8_2016_files:\n",
    "        # When reading each file, we grab the Week & Location data and add it to two new columns\n",
    "        week, location = _get_week_and_location(filename)\n",
    "        df = pd.read_csv(filename)\n",
    "        df[\"Week\"], df[\"Location\"] = week, location\n",
    "        data_arr.append(df)\n",
    "    return data_arr\n",
    "\n",
    "def _get_week_and_location(filename):\n",
    "    fileparts = filename.split(\" \")\n",
    "    week, location = int(fileparts[2]), fileparts[5].split(\".\")[0]\n",
    "    return week, location\n",
    "\n",
    "data = read_all_files()"
   ]
  },
  {
   "cell_type": "markdown",
   "metadata": {},
   "source": [
    "### NOTE: The bad dataframe with `Unnamed: 0` is the `Anon Week 1 Feedback - SV.csv` DF\n",
    "\n",
    "The `Unnamed: 0` column/feature is measuring Timestamp data (Datetime)"
   ]
  },
  {
   "cell_type": "markdown",
   "metadata": {},
   "source": [
    "### NOTE: The bad dataframe with no `Timestamp` or `Unnamed: 0` is the `Anon Week 5 Feedback - SF.csv` DF"
   ]
  },
  {
   "cell_type": "code",
   "execution_count": 558,
   "metadata": {},
   "outputs": [],
   "source": [
    "'''Finds the dataframe with no Timestamp or Unnamed: 0 column and adds a Timestamp column with default string values'''\n",
    "\n",
    "youre_the_one = None\n",
    "index_of_df = None\n",
    "for index, df in enumerate(data):\n",
    "    if \"Unnamed: 0\" not in df.columns and \"Timestamp\" not in df.columns:\n",
    "        df.insert(0, 'Timestamp', 'NO TIMESTAMP')\n",
    "        youre_the_one = df\n",
    "        index_of_df = index\n",
    "        \n",
    "\n",
    "# youre_the_one\n"
   ]
  },
  {
   "cell_type": "code",
   "execution_count": 559,
   "metadata": {},
   "outputs": [
    {
     "data": {
      "text/html": [
       "<div>\n",
       "<style scoped>\n",
       "    .dataframe tbody tr th:only-of-type {\n",
       "        vertical-align: middle;\n",
       "    }\n",
       "\n",
       "    .dataframe tbody tr th {\n",
       "        vertical-align: top;\n",
       "    }\n",
       "\n",
       "    .dataframe thead th {\n",
       "        text-align: right;\n",
       "    }\n",
       "</style>\n",
       "<table border=\"1\" class=\"dataframe\">\n",
       "  <thead>\n",
       "    <tr style=\"text-align: right;\">\n",
       "      <th></th>\n",
       "      <th>Timestamp</th>\n",
       "      <th>What track are you in?</th>\n",
       "      <th>How would you rate your overall satisfaction with the Summer Academy this week?</th>\n",
       "      <th>How well are the tutorials paced?</th>\n",
       "      <th>Week</th>\n",
       "      <th>Location</th>\n",
       "    </tr>\n",
       "  </thead>\n",
       "  <tbody>\n",
       "    <tr>\n",
       "      <th>0</th>\n",
       "      <td>6/24/2016 13:32:01</td>\n",
       "      <td>Games</td>\n",
       "      <td>2</td>\n",
       "      <td>4</td>\n",
       "      <td>1</td>\n",
       "      <td>SV</td>\n",
       "    </tr>\n",
       "    <tr>\n",
       "      <th>1</th>\n",
       "      <td>6/24/2016 13:48:09</td>\n",
       "      <td>Apps</td>\n",
       "      <td>3</td>\n",
       "      <td>4</td>\n",
       "      <td>1</td>\n",
       "      <td>SV</td>\n",
       "    </tr>\n",
       "    <tr>\n",
       "      <th>2</th>\n",
       "      <td>6/24/2016 13:49:23</td>\n",
       "      <td>Apps</td>\n",
       "      <td>3</td>\n",
       "      <td>3</td>\n",
       "      <td>1</td>\n",
       "      <td>SV</td>\n",
       "    </tr>\n",
       "  </tbody>\n",
       "</table>\n",
       "</div>"
      ],
      "text/plain": [
       "            Timestamp What track are you in?  \\\n",
       "0  6/24/2016 13:32:01                  Games   \n",
       "1  6/24/2016 13:48:09                   Apps   \n",
       "2  6/24/2016 13:49:23                   Apps   \n",
       "\n",
       "   How would you rate your overall satisfaction with the Summer Academy this week?  \\\n",
       "0                                                  2                                 \n",
       "1                                                  3                                 \n",
       "2                                                  3                                 \n",
       "\n",
       "   How well are the tutorials paced?  Week Location  \n",
       "0                                  4     1       SV  \n",
       "1                                  4     1       SV  \n",
       "2                                  3     1       SV  "
      ]
     },
     "execution_count": 559,
     "metadata": {},
     "output_type": "execute_result"
    }
   ],
   "source": [
    "'''Renamed Unnamed: 0 ---> Timestamp'''\n",
    "\n",
    "data[20] = data[20].rename(columns={'Unnamed: 0': 'Timestamp'})\n",
    "\n",
    "data[20].head(3)"
   ]
  },
  {
   "cell_type": "code",
   "execution_count": 560,
   "metadata": {
    "scrolled": true
   },
   "outputs": [
    {
     "data": {
      "text/plain": [
       "{'Timestamp': 39,\n",
       " 'How would you rate your overall satisfaction with the Summer Academy this week?': 39,\n",
       " 'How well is the schedule paced?': 33,\n",
       " 'Week': 39,\n",
       " 'Location': 39,\n",
       " 'How well are the tutorials paced?': 6,\n",
       " 'What track are you in?': 24}"
      ]
     },
     "execution_count": 560,
     "metadata": {},
     "output_type": "execute_result"
    }
   ],
   "source": [
    "# week_one_through_seven_df = pd.DataFrame(index=index, columns=columns)\n",
    "# Find a way to grab `week` and `location` data from filenames\n",
    "# Find all potential unique columns\n",
    "# Use unique columns to create master DF and put all data into that one (merging, copies)\n",
    "\n",
    "\n",
    "#Histogram of columns and their frequency\n",
    "column_names = dict()\n",
    "\n",
    "for df in data:\n",
    "    for column in df.columns:\n",
    "        if column in column_names:\n",
    "            column_names[column] += 1\n",
    "        else:\n",
    "            column_names[column] = 1\n",
    "            \n",
    "column_names\n"
   ]
  },
  {
   "cell_type": "markdown",
   "metadata": {},
   "source": [
    "## TODO: Aggregate Schedule and Tutorial data into _Pacing_ column (mutual exclusion)"
   ]
  },
  {
   "cell_type": "markdown",
   "metadata": {},
   "source": [
    "## Checking Each 2016 (not Week 8) DF for Unique Values"
   ]
  },
  {
   "cell_type": "code",
   "execution_count": 561,
   "metadata": {},
   "outputs": [],
   "source": [
    "# Functionalized grabbing unique values\n",
    "\n",
    "def check_unique_values_by_column(col_name):\n",
    "    unique_values = set()\n",
    "    for df in data:\n",
    "        if col_name in df.columns:\n",
    "            df_vals = df[col_name].unique().tolist()\n",
    "            unique_values.update(df_vals)\n",
    "    return unique_values"
   ]
  },
  {
   "cell_type": "code",
   "execution_count": 562,
   "metadata": {
    "scrolled": true
   },
   "outputs": [
    {
     "data": {
      "text/plain": [
       "['Timestamp',\n",
       " 'How would you rate your overall satisfaction with the Summer Academy this week?',\n",
       " 'How well is the schedule paced?',\n",
       " 'Week',\n",
       " 'Location',\n",
       " 'How well are the tutorials paced?',\n",
       " 'What track are you in?']"
      ]
     },
     "execution_count": 562,
     "metadata": {},
     "output_type": "execute_result"
    }
   ],
   "source": [
    "col_name_list = list(column_names.keys())\n",
    "col_name_list"
   ]
  },
  {
   "cell_type": "markdown",
   "metadata": {},
   "source": [
    "### Create Dictionary of Unique Values per Column Name over All Data"
   ]
  },
  {
   "cell_type": "code",
   "execution_count": 563,
   "metadata": {},
   "outputs": [],
   "source": [
    "uniques_dict = dict()\n",
    "# For each column name in our list above, we create a dictionary element where...\n",
    "# KEY: Column Name\n",
    "# VALUE: All Unique Values for that Column Name across All Data\n",
    "for index in range(7):\n",
    "    col_name = col_name_list[index]\n",
    "    uniques_dict[col_name] = check_unique_values_by_column(col_name)"
   ]
  },
  {
   "cell_type": "code",
   "execution_count": 564,
   "metadata": {},
   "outputs": [
    {
     "data": {
      "text/plain": [
       "[1, 2, 3, 4, 5, '4', '3', '#REF!', '5']"
      ]
     },
     "execution_count": 564,
     "metadata": {},
     "output_type": "execute_result"
    }
   ],
   "source": [
    "uniques = list(uniques_dict[\"How would you rate your overall satisfaction with the Summer Academy this week?\"])\n",
    "uniques"
   ]
  },
  {
   "cell_type": "code",
   "execution_count": 565,
   "metadata": {},
   "outputs": [
    {
     "name": "stdout",
     "output_type": "stream",
     "text": [
      "[3 4 5] \n",
      "\n",
      "\n",
      "[3 4 5] \n",
      "\n",
      "\n",
      "[2 3 4 5] \n",
      "\n",
      "\n",
      "[3 5 4] \n",
      "\n",
      "\n",
      "[5 4 3] \n",
      "\n",
      "\n",
      "[4 5 3 2] \n",
      "\n",
      "\n",
      "[4 3] \n",
      "\n",
      "\n",
      "[2 4 5 3] \n",
      "\n",
      "\n",
      "[4 5] \n",
      "\n",
      "\n",
      "[3 4 5] \n",
      "\n",
      "\n",
      "[4 3 5] \n",
      "\n",
      "\n",
      "[5 4 3] \n",
      "\n",
      "\n",
      "[4 5 3] \n",
      "\n",
      "\n",
      "[5 3 1 4] \n",
      "\n",
      "\n",
      "[3 4 5 1] \n",
      "\n",
      "\n",
      "[4 3 2] \n",
      "\n",
      "\n",
      "[2 3 4 5] \n",
      "\n",
      "\n",
      "[3 5 4] \n",
      "\n",
      "\n",
      "[4 5] \n",
      "\n",
      "\n",
      "[3 4 5] \n",
      "\n",
      "\n",
      "[2 3 4 5] \n",
      "\n",
      "\n",
      "[3 4 5] \n",
      "\n",
      "\n",
      "[4 3 2 5 1] \n",
      "\n",
      "\n",
      "[4 5 3] \n",
      "\n",
      "\n",
      "[3 5 4 2] \n",
      "\n",
      "\n",
      "[5 4] \n",
      "\n",
      "\n",
      "[3 5 1 4] \n",
      "\n",
      "\n",
      "[3 4 5] \n",
      "\n",
      "\n",
      "[3 4 5] \n",
      "\n",
      "\n",
      "[4 5] \n",
      "\n",
      "\n",
      "[5 3 4] \n",
      "\n",
      "\n",
      "[5 3 4 1 2] \n",
      "\n",
      "\n",
      "[4 5 3 2] \n",
      "\n",
      "\n",
      "[5 4] \n",
      "\n",
      "\n",
      "[5 4 3] \n",
      "\n",
      "\n",
      "[2 3 4 5 1] \n",
      "\n",
      "\n",
      "[3 4 5] \n",
      "\n",
      "\n",
      "[4 3] \n",
      "\n",
      "\n",
      "[0 4 3 5] \n",
      "\n",
      "\n"
     ]
    }
   ],
   "source": [
    "'''For satisfaction column, map errors  to 0, then change datatype of column to type int '''\n",
    "  \n",
    "satisfaction_map = dict(zip(uniques, [1, 2, 3, 4, 5, 4, 3, 5, 0]))\n",
    "\n",
    "# satisfaction_column = 'How would you rate your overall satisfaction with the Summer Academy this week?'\n",
    "\n",
    "for df in data:\n",
    "    if 'How would you rate your overall satisfaction with the Summer Academy this week?' in df:\n",
    "#         if '#REF!' in df[satisfaction_column]:\n",
    "        df['How would you rate your overall satisfaction with the Summer Academy this week?'] = df['How would you rate your overall satisfaction with the Summer Academy this week?'].map(satisfaction_map).astype(int)\n",
    "#         df['How would you rate your overall satisfaction with the Summer Academy this week?'] = df['How would you rate your overall satisfaction with the Summer Academy this week?'].astype(int)\n",
    "            \n",
    "\n",
    "\n",
    "for df in data:\n",
    "    if 'How would you rate your overall satisfaction with the Summer Academy this week?' in df:\n",
    "        print(df['How would you rate your overall satisfaction with the Summer Academy this week?'].unique(), \"\\n\\n\")\n",
    "\n",
    "    "
   ]
  },
  {
   "cell_type": "code",
   "execution_count": 566,
   "metadata": {},
   "outputs": [],
   "source": [
    "# 2016 NOT Week 8 data dictionary mappings \n",
    "\n",
    "''' Mapping Schedule pacing to convert np.NaN and errors to 0 so that we can only deal with values greater than 0 in \n",
    "our calculations and making sure values are integers. '''\n",
    "\n",
    "'''Our collection of mapping dictionaries to deal with np.NaN, #REF!, and wrong datatypes'''\n",
    "\n",
    "schedule_pacing_map = {\n",
    "    '#REF!': 0,\n",
    "    np.NaN: 0, \n",
    "    1: 1, \n",
    "    2: 2, \n",
    "    '2': 2, \n",
    "    3: 3, \n",
    "    '3': 3, \n",
    "    '4': 4, \n",
    "    4: 4, \n",
    "    5: 5, \n",
    "    '5': 5\n",
    "}\n",
    "\n",
    "\n",
    "for df in data:\n",
    "    if \"How well is the schedule paced?\" in df:\n",
    "        df[\"How well is the schedule paced?\"] = df[\"How well is the schedule paced?\"].map(schedule_pacing_map)\n",
    "        df = df.drop(df[df[\"How well is the schedule paced?\"] > 0].index)\n"
   ]
  },
  {
   "cell_type": "code",
   "execution_count": 567,
   "metadata": {},
   "outputs": [
    {
     "name": "stdout",
     "output_type": "stream",
     "text": [
      "[3 4 5] \n",
      "\n",
      "\n",
      "[3 4 5] \n",
      "\n",
      "\n",
      "[2 3 4 5] \n",
      "\n",
      "\n",
      "[3 5 4] \n",
      "\n",
      "\n",
      "[5 4 3] \n",
      "\n",
      "\n",
      "[4 5 3 2] \n",
      "\n",
      "\n",
      "[4 3] \n",
      "\n",
      "\n",
      "[2 4 5 3] \n",
      "\n",
      "\n",
      "[4 5] \n",
      "\n",
      "\n",
      "[3 4 5] \n",
      "\n",
      "\n",
      "[4 3 5] \n",
      "\n",
      "\n",
      "[5 4 3] \n",
      "\n",
      "\n",
      "[4 5 3] \n",
      "\n",
      "\n",
      "[5 3 1 4] \n",
      "\n",
      "\n",
      "[3 4 5 1] \n",
      "\n",
      "\n",
      "[4 3 2] \n",
      "\n",
      "\n",
      "[2 3 4 5] \n",
      "\n",
      "\n",
      "[3 5 4] \n",
      "\n",
      "\n",
      "[4 5] \n",
      "\n",
      "\n",
      "[3 4 5] \n",
      "\n",
      "\n",
      "[2 3 4 5] \n",
      "\n",
      "\n",
      "[3 4 5] \n",
      "\n",
      "\n",
      "[4 3 2 5 1] \n",
      "\n",
      "\n",
      "[4 5 3] \n",
      "\n",
      "\n",
      "[3 5 4 2] \n",
      "\n",
      "\n",
      "[5 4] \n",
      "\n",
      "\n",
      "[3 5 1 4] \n",
      "\n",
      "\n",
      "[3 4 5] \n",
      "\n",
      "\n",
      "[3 4 5] \n",
      "\n",
      "\n",
      "[4 5] \n",
      "\n",
      "\n",
      "[5 3 4] \n",
      "\n",
      "\n",
      "[5 3 4 1 2] \n",
      "\n",
      "\n",
      "[4 5 3 2] \n",
      "\n",
      "\n",
      "[5 4] \n",
      "\n",
      "\n",
      "[5 4 3] \n",
      "\n",
      "\n",
      "[2 3 4 5 1] \n",
      "\n",
      "\n",
      "[3 4 5] \n",
      "\n",
      "\n",
      "[4 3] \n",
      "\n",
      "\n",
      "[0 4 3 5] \n",
      "\n",
      "\n"
     ]
    }
   ],
   "source": [
    "for df in data:\n",
    "    if 'How would you rate your overall satisfaction with the Summer Academy this week?' in df:\n",
    "        print(df['How would you rate your overall satisfaction with the Summer Academy this week?'].unique(), \"\\n\\n\")"
   ]
  },
  {
   "cell_type": "code",
   "execution_count": 568,
   "metadata": {},
   "outputs": [
    {
     "data": {
      "text/plain": [
       "['Timestamp',\n",
       " 'How would you rate your overall satisfaction with the Summer Academy this week?',\n",
       " 'How well is the schedule paced?',\n",
       " 'Week',\n",
       " 'Location',\n",
       " 'How well are the tutorials paced?',\n",
       " 'What track are you in?']"
      ]
     },
     "execution_count": 568,
     "metadata": {},
     "output_type": "execute_result"
    }
   ],
   "source": [
    "col_name_list"
   ]
  },
  {
   "cell_type": "code",
   "execution_count": 569,
   "metadata": {},
   "outputs": [
    {
     "name": "stdout",
     "output_type": "stream",
     "text": [
      "Timestamp :  [<class 'str'>, <class 'float'>]\n"
     ]
    }
   ],
   "source": [
    "unique_types = set()\n",
    "\n",
    "for item in check_unique_values_by_column(col_name_list[0]):\n",
    "    unique_types.update([type(item)])\n",
    "    \n",
    "# unique_types\n",
    "print(col_name_list[0], \": \", list(unique_types))"
   ]
  },
  {
   "cell_type": "markdown",
   "metadata": {},
   "source": [
    "### Checks all unique datatypes across every feature across every dataset"
   ]
  },
  {
   "cell_type": "code",
   "execution_count": 570,
   "metadata": {},
   "outputs": [],
   "source": [
    "def check_unique_values_by_column(col_name):\n",
    "    unique_values = set()\n",
    "    for df in data:\n",
    "        if col_name in df.columns:\n",
    "            df_vals = df[col_name].unique().tolist()\n",
    "            unique_values.update(df_vals)\n",
    "    return unique_values"
   ]
  },
  {
   "cell_type": "code",
   "execution_count": 571,
   "metadata": {},
   "outputs": [
    {
     "data": {
      "text/plain": [
       "{'Timestamp': [str, float],\n",
       " 'How would you rate your overall satisfaction with the Summer Academy this week?': [int],\n",
       " 'How well is the schedule paced?': [int],\n",
       " 'Week': [int],\n",
       " 'Location': [str],\n",
       " 'How well are the tutorials paced?': [int],\n",
       " 'What track are you in?': [str]}"
      ]
     },
     "execution_count": 571,
     "metadata": {},
     "output_type": "execute_result"
    }
   ],
   "source": [
    "# dict_of_unique_types\n",
    "'''Returns a dict (KEY: Unique Columns in all dataframes, VALUE: Set of unique value types)'''\n",
    "type_dict = dict()\n",
    "\n",
    "for feature in range(len(col_name_list)):\n",
    "    unique_types = set()\n",
    "\n",
    "    for item in check_unique_values_by_column(col_name_list[feature]):\n",
    "        unique_types.update([type(item)])\n",
    "\n",
    "    type_dict[col_name_list[feature]] = list(unique_types)\n",
    "    \n",
    "type_dict\n"
   ]
  },
  {
   "cell_type": "code",
   "execution_count": null,
   "metadata": {},
   "outputs": [],
   "source": []
  },
  {
   "cell_type": "code",
   "execution_count": 572,
   "metadata": {},
   "outputs": [
    {
     "data": {
      "text/plain": [
       "{'Apps', 'Average:', 'Games', 'Intro', 'VR'}"
      ]
     },
     "execution_count": 572,
     "metadata": {},
     "output_type": "execute_result"
    }
   ],
   "source": [
    "# 'What track are you in?' looks pretty clean\n",
    "unique_track_vals = check_unique_values_by_column('What track are you in?')\n",
    "unique_track_vals"
   ]
  },
  {
   "cell_type": "markdown",
   "metadata": {},
   "source": [
    "## Type Mapper!"
   ]
  },
  {
   "cell_type": "code",
   "execution_count": 573,
   "metadata": {},
   "outputs": [],
   "source": [
    "def map_types_to_value(df, column_name, type_to_change, change_to_value):\n",
    "    '''Takes a Pandas Dataframe, column name, object type to change, and the value to replace with\n",
    "        Returns a \"mapped\" dataframe based on value types that you want to replace'''\n",
    "    for index, item in df.iterrows():\n",
    "        changer = None\n",
    "        if type(item[0]) == type_to_change:\n",
    "            changer = change_to_value\n",
    "            return df.set_value(index, column_name, changer)\n"
   ]
  },
  {
   "cell_type": "code",
   "execution_count": 574,
   "metadata": {},
   "outputs": [
    {
     "name": "stderr",
     "output_type": "stream",
     "text": [
      "/anaconda3/lib/python3.7/site-packages/ipykernel_launcher.py:8: FutureWarning: set_value is deprecated and will be removed in a future release. Please use .at[] or .iat[] accessors instead\n",
      "  \n"
     ]
    },
    {
     "data": {
      "text/html": [
       "<div>\n",
       "<style scoped>\n",
       "    .dataframe tbody tr th:only-of-type {\n",
       "        vertical-align: middle;\n",
       "    }\n",
       "\n",
       "    .dataframe tbody tr th {\n",
       "        vertical-align: top;\n",
       "    }\n",
       "\n",
       "    .dataframe thead th {\n",
       "        text-align: right;\n",
       "    }\n",
       "</style>\n",
       "<table border=\"1\" class=\"dataframe\">\n",
       "  <thead>\n",
       "    <tr style=\"text-align: right;\">\n",
       "      <th></th>\n",
       "      <th>testing</th>\n",
       "    </tr>\n",
       "  </thead>\n",
       "  <tbody>\n",
       "    <tr>\n",
       "      <th>0</th>\n",
       "      <td>asdf</td>\n",
       "    </tr>\n",
       "    <tr>\n",
       "      <th>1</th>\n",
       "      <td>zxcv</td>\n",
       "    </tr>\n",
       "    <tr>\n",
       "      <th>2</th>\n",
       "      <td>qwer</td>\n",
       "    </tr>\n",
       "    <tr>\n",
       "      <th>3</th>\n",
       "      <td>pou</td>\n",
       "    </tr>\n",
       "    <tr>\n",
       "      <th>4</th>\n",
       "      <td>ncmv</td>\n",
       "    </tr>\n",
       "    <tr>\n",
       "      <th>5</th>\n",
       "      <td>WORKING</td>\n",
       "    </tr>\n",
       "  </tbody>\n",
       "</table>\n",
       "</div>"
      ],
      "text/plain": [
       "   testing\n",
       "0     asdf\n",
       "1     zxcv\n",
       "2     qwer\n",
       "3      pou\n",
       "4     ncmv\n",
       "5  WORKING"
      ]
     },
     "execution_count": 574,
     "metadata": {},
     "output_type": "execute_result"
    }
   ],
   "source": [
    "# \"Example of using the Type Mapper Function\"\n",
    "\n",
    "test = pd.DataFrame(data=[\"asdf\", \"zxcv\", \"qwer\", \"pou\", \"ncmv\", True], columns=[\"testing\"])\n",
    "\n",
    "mapped = map_types_to_value(test, \"testing\", bool, \"WORKING\")\n",
    "mapped\n"
   ]
  },
  {
   "cell_type": "code",
   "execution_count": 575,
   "metadata": {},
   "outputs": [],
   "source": [
    "'''Takes NaN values in Timestamp column and maps then to a \"NO TIMESTAMP\" string'''\n",
    "\n",
    "'''CURRENTLY NOT CATCHING NAN VALUE, DONT KNOW WHY!'''\n",
    "\n",
    "for df in data:\n",
    "    map_types_to_value(df, 'Timestamp', np.nan, \"NO TIMESTAMP\")\n",
    "\n",
    "unique_timestamp_vals = check_unique_values_by_column('Timestamp')\n",
    "# unique_timestamp_vals\n"
   ]
  },
  {
   "cell_type": "markdown",
   "metadata": {},
   "source": [
    "### Example of Merging Mutually Exclusive Columns"
   ]
  },
  {
   "cell_type": "code",
   "execution_count": 576,
   "metadata": {},
   "outputs": [],
   "source": [
    "df1 = pd.DataFrame([1, 0, 3, 4, np.nan, np.nan, 0, 6, np.nan, np.nan, np.nan], columns=[\"a\"])\n",
    "df2 = pd.DataFrame([np.nan, np.nan, np.nan, np.nan, 5, 7, np.nan, np.nan, 2, 9, 8], columns=[\"b\"])"
   ]
  },
  {
   "cell_type": "markdown",
   "metadata": {},
   "source": [
    "Step 1: Replace all **NaNs**"
   ]
  },
  {
   "cell_type": "code",
   "execution_count": 577,
   "metadata": {},
   "outputs": [],
   "source": [
    "df1[\"a\"] = df1[\"a\"].fillna(0)\n",
    "df2[\"b\"] = df2[\"b\"].fillna(0)"
   ]
  },
  {
   "cell_type": "code",
   "execution_count": 578,
   "metadata": {},
   "outputs": [
    {
     "data": {
      "text/plain": [
       "0     1.0\n",
       "1     0.0\n",
       "2     3.0\n",
       "3     4.0\n",
       "4     5.0\n",
       "5     7.0\n",
       "6     0.0\n",
       "7     6.0\n",
       "8     2.0\n",
       "9     9.0\n",
       "10    8.0\n",
       "dtype: float64"
      ]
     },
     "execution_count": 578,
     "metadata": {},
     "output_type": "execute_result"
    }
   ],
   "source": [
    "df_final = df1['a'] + df2['b']\n",
    "df_final"
   ]
  },
  {
   "cell_type": "code",
   "execution_count": 579,
   "metadata": {},
   "outputs": [
    {
     "data": {
      "text/plain": [
       "'New YorkNo Location'"
      ]
     },
     "execution_count": 579,
     "metadata": {},
     "output_type": "execute_result"
    }
   ],
   "source": [
    "s1, s2 = \"New York\", \"No Location\"\n",
    "s1 + s2"
   ]
  },
  {
   "cell_type": "code",
   "execution_count": 580,
   "metadata": {},
   "outputs": [
    {
     "data": {
      "text/plain": [
       "0     1.0\n",
       "1     0.0\n",
       "2     3.0\n",
       "3     4.0\n",
       "4     5.0\n",
       "5     7.0\n",
       "6     0.0\n",
       "7     6.0\n",
       "8     2.0\n",
       "9     9.0\n",
       "10    8.0\n",
       "dtype: float64"
      ]
     },
     "execution_count": 580,
     "metadata": {},
     "output_type": "execute_result"
    }
   ],
   "source": [
    "df_final"
   ]
  },
  {
   "cell_type": "code",
   "execution_count": 581,
   "metadata": {},
   "outputs": [],
   "source": [
    "pacing_name1 = 'How well is the schedule paced?'\n",
    "pacing_name2 = 'How well are the tutorials pacecd?'"
   ]
  },
  {
   "cell_type": "markdown",
   "metadata": {},
   "source": [
    "### Since we know that the `Schedule Pacing` and `Tutorial Pacing` are mutually exclusive columns, we can simply _ADD_ them together into a new column.\n",
    "\n",
    "### Let's do this last when we have everything in the same dataframe because all we need to do is:\n",
    "    *Map alls NaNs to 0 for both pacing columns\n",
    "    *Just add the dataframes together"
   ]
  },
  {
   "cell_type": "markdown",
   "metadata": {},
   "source": [
    "## Let's Make a 2016 DataFrame"
   ]
  },
  {
   "cell_type": "code",
   "execution_count": 654,
   "metadata": {},
   "outputs": [],
   "source": [
    "df_2016_no_week_8 = pd.concat(data, ignore_index=True, sort=True)"
   ]
  },
  {
   "cell_type": "code",
   "execution_count": 655,
   "metadata": {},
   "outputs": [
    {
     "data": {
      "text/html": [
       "<div>\n",
       "<style scoped>\n",
       "    .dataframe tbody tr th:only-of-type {\n",
       "        vertical-align: middle;\n",
       "    }\n",
       "\n",
       "    .dataframe tbody tr th {\n",
       "        vertical-align: top;\n",
       "    }\n",
       "\n",
       "    .dataframe thead th {\n",
       "        text-align: right;\n",
       "    }\n",
       "</style>\n",
       "<table border=\"1\" class=\"dataframe\">\n",
       "  <thead>\n",
       "    <tr style=\"text-align: right;\">\n",
       "      <th></th>\n",
       "      <th>Rating (Num)</th>\n",
       "      <th>Location</th>\n",
       "      <th>Week</th>\n",
       "      <th>Track</th>\n",
       "      <th>Year</th>\n",
       "      <th>Schedule Pacing</th>\n",
       "    </tr>\n",
       "  </thead>\n",
       "  <tbody>\n",
       "    <tr>\n",
       "      <th>0</th>\n",
       "      <td>6</td>\n",
       "      <td>Taipei</td>\n",
       "      <td>7</td>\n",
       "      <td>NaN</td>\n",
       "      <td>2016</td>\n",
       "      <td>3.0</td>\n",
       "    </tr>\n",
       "    <tr>\n",
       "      <th>1</th>\n",
       "      <td>8</td>\n",
       "      <td>Taipei</td>\n",
       "      <td>7</td>\n",
       "      <td>NaN</td>\n",
       "      <td>2016</td>\n",
       "      <td>3.0</td>\n",
       "    </tr>\n",
       "    <tr>\n",
       "      <th>2</th>\n",
       "      <td>8</td>\n",
       "      <td>Taipei</td>\n",
       "      <td>7</td>\n",
       "      <td>NaN</td>\n",
       "      <td>2016</td>\n",
       "      <td>3.0</td>\n",
       "    </tr>\n",
       "  </tbody>\n",
       "</table>\n",
       "</div>"
      ],
      "text/plain": [
       "   Rating (Num) Location  Week Track  Year  Schedule Pacing\n",
       "0             6   Taipei     7   NaN  2016              3.0\n",
       "1             8   Taipei     7   NaN  2016              3.0\n",
       "2             8   Taipei     7   NaN  2016              3.0"
      ]
     },
     "execution_count": 655,
     "metadata": {},
     "output_type": "execute_result"
    }
   ],
   "source": [
    "'''Mutually Exclusive Column Merge for Pacing Data AND dropping not needed columns'''\n",
    "\n",
    "df_2016_no_week_8[\"How well are the tutorials paced?\"] = df_2016_no_week_8[\"How well are the tutorials paced?\"].fillna(0)\n",
    "df_2016_no_week_8[\"How well is the schedule paced?\"] = df_2016_no_week_8[\"How well is the schedule paced?\"].fillna(0)\n",
    "\n",
    "df_2016_no_week_8[\"Pacing\"] = df_2016_no_week_8[\"How well are the tutorials paced?\"] + df_2016_no_week_8[\"How well is the schedule paced?\"]\n",
    "\n",
    "df_2016_no_week_8.drop(columns=['How well are the tutorials paced?', 'How well is the schedule paced?'], inplace=True)\n",
    "df_2016_no_week_8[\"How would you rate your overall satisfaction with the Summer Academy this week?\"] = df_2016_no_week_8[\"How would you rate your overall satisfaction with the Summer Academy this week?\"].transform(lambda x: x * 2)\n",
    "\n",
    "df_2016_no_week_8[\"Year\"] = \"2016\"\n",
    "\n",
    "'''Renaming columns to prepare for merge, dropping columns, filling nans'''\n",
    "\n",
    "df_2016_no_week_8 = df_2016_no_week_8.rename(columns={'How would you rate your overall satisfaction with the Summer Academy this week?': 'Rating (Num)', 'What track are you in?': 'Track', 'Pacing': 'Schedule Pacing'})\n",
    "df_2016_no_week_8.drop(columns=['Timestamp'], inplace=True)\n",
    "\n",
    "# df_2016_no_week_8[\"Track\"].unique()\n",
    "# df_2016_no_week_8.head(3)\n",
    "\n",
    "\n",
    "\n",
    "\n",
    "\n",
    "df_2016_no_week_8.head(3)"
   ]
  },
  {
   "cell_type": "code",
   "execution_count": 656,
   "metadata": {},
   "outputs": [
    {
     "data": {
      "text/html": [
       "<div>\n",
       "<style scoped>\n",
       "    .dataframe tbody tr th:only-of-type {\n",
       "        vertical-align: middle;\n",
       "    }\n",
       "\n",
       "    .dataframe tbody tr th {\n",
       "        vertical-align: top;\n",
       "    }\n",
       "\n",
       "    .dataframe thead th {\n",
       "        text-align: right;\n",
       "    }\n",
       "</style>\n",
       "<table border=\"1\" class=\"dataframe\">\n",
       "  <thead>\n",
       "    <tr style=\"text-align: right;\">\n",
       "      <th></th>\n",
       "      <th>Timestamp</th>\n",
       "      <th>What track are you in?</th>\n",
       "      <th>How would you rate your overall satisfaction with the Summer Academy this week?</th>\n",
       "      <th>How well is the schedule paced?</th>\n",
       "      <th>Week</th>\n",
       "      <th>Location</th>\n",
       "      <th>Year</th>\n",
       "    </tr>\n",
       "  </thead>\n",
       "  <tbody>\n",
       "    <tr>\n",
       "      <th>0</th>\n",
       "      <td>7/8/2016 12:52:08</td>\n",
       "      <td>Games</td>\n",
       "      <td>0</td>\n",
       "      <td>2</td>\n",
       "      <td>3</td>\n",
       "      <td>SV</td>\n",
       "      <td>2017</td>\n",
       "    </tr>\n",
       "    <tr>\n",
       "      <th>1</th>\n",
       "      <td>7/9/2016 15:22:45</td>\n",
       "      <td>Apps</td>\n",
       "      <td>0</td>\n",
       "      <td>3</td>\n",
       "      <td>3</td>\n",
       "      <td>SV</td>\n",
       "      <td>2017</td>\n",
       "    </tr>\n",
       "    <tr>\n",
       "      <th>2</th>\n",
       "      <td>7/8/2016 21:26:01</td>\n",
       "      <td>Games</td>\n",
       "      <td>4</td>\n",
       "      <td>3</td>\n",
       "      <td>3</td>\n",
       "      <td>SV</td>\n",
       "      <td>2017</td>\n",
       "    </tr>\n",
       "    <tr>\n",
       "      <th>3</th>\n",
       "      <td>7/8/2016 13:52:01</td>\n",
       "      <td>Apps</td>\n",
       "      <td>4</td>\n",
       "      <td>3</td>\n",
       "      <td>3</td>\n",
       "      <td>SV</td>\n",
       "      <td>2017</td>\n",
       "    </tr>\n",
       "    <tr>\n",
       "      <th>4</th>\n",
       "      <td>7/8/2016 14:00:28</td>\n",
       "      <td>Apps</td>\n",
       "      <td>4</td>\n",
       "      <td>4</td>\n",
       "      <td>3</td>\n",
       "      <td>SV</td>\n",
       "      <td>2017</td>\n",
       "    </tr>\n",
       "  </tbody>\n",
       "</table>\n",
       "</div>"
      ],
      "text/plain": [
       "           Timestamp What track are you in?  \\\n",
       "0  7/8/2016 12:52:08                  Games   \n",
       "1  7/9/2016 15:22:45                   Apps   \n",
       "2  7/8/2016 21:26:01                  Games   \n",
       "3  7/8/2016 13:52:01                   Apps   \n",
       "4  7/8/2016 14:00:28                   Apps   \n",
       "\n",
       "   How would you rate your overall satisfaction with the Summer Academy this week?  \\\n",
       "0                                                  0                                 \n",
       "1                                                  0                                 \n",
       "2                                                  4                                 \n",
       "3                                                  4                                 \n",
       "4                                                  4                                 \n",
       "\n",
       "   How well is the schedule paced?  Week Location  Year  \n",
       "0                                2     3       SV  2017  \n",
       "1                                3     3       SV  2017  \n",
       "2                                3     3       SV  2017  \n",
       "3                                3     3       SV  2017  \n",
       "4                                4     3       SV  2017  "
      ]
     },
     "execution_count": 656,
     "metadata": {},
     "output_type": "execute_result"
    }
   ],
   "source": [
    "df[\"What track are you in?\"] = df[\"What track are you in?\"].fillna(\"Unspecified\")\n",
    "df.head()"
   ]
  },
  {
   "cell_type": "code",
   "execution_count": 657,
   "metadata": {},
   "outputs": [
    {
     "data": {
      "text/plain": [
       "Index(['Rating (Num)', 'Location', 'Week', 'Track', 'Year', 'Schedule Pacing'], dtype='object')"
      ]
     },
     "execution_count": 657,
     "metadata": {},
     "output_type": "execute_result"
    }
   ],
   "source": [
    "df_2016_no_week_8.columns"
   ]
  },
  {
   "cell_type": "code",
   "execution_count": 658,
   "metadata": {},
   "outputs": [
    {
     "data": {
      "text/plain": [
       "'FAILED ATTEMPTS AT TRYING TO MERGE PACING COLUMNS INTO ONE COLUMN BY UNNECECARILY DIFFICULT MEANS'"
      ]
     },
     "execution_count": 658,
     "metadata": {},
     "output_type": "execute_result"
    }
   ],
   "source": [
    "'''FAILED ATTEMPTS AT TRYING TO MERGE PACING COLUMNS INTO ONE COLUMN BY UNNECECARILY DIFFICULT MEANS'''\n",
    "\n",
    "\n",
    "# pacing_df =  pd.DataFrame(columns= ['How well is the schedule paced?','How well are the tutorials paced?'])\n",
    "\n",
    "# array_of_columns = list()\n",
    "\n",
    "\n",
    "# for df in data:\n",
    "#     if 'How well is the schedule paced?' in df.columns:\n",
    "#         array_of_columns.append(df['How well is the schedule paced?'])\n",
    "#         nan_df = pd.DataFrame(np.nan, index=df['How well is the schedule paced?'].size, columns='How well are the tutorials paced?')\n",
    "#         array_of_columns.append(nan_df)\n",
    "# #         pacing_df['How well is the schedule paced?'] = pacing_df['How well is the schedule paced?'] + df['How well is the schedule paced?']\n",
    "#     elif 'How well are the tutorials paced?' in df.columns:\n",
    "#         array_of_columns.append(df['How well are the tutorials paced?'])\n",
    "#         nan_df = pd.DataFrame(np.nan, index=df['How well are the tutorials paced?'].size, columns='How well are the tutorials paced?')\n",
    "#         array_of_columns.append(nan_df)\n",
    "        \n",
    "        \n",
    "# #         pacing_df[ 'How well are the tutorials paced?'] = pacing_df['How well are the tutorials paced?'] + df['How well are the tutorials paced?']\n",
    "        \n",
    "# pacing_df\n",
    "\n",
    "\n",
    "\n",
    "# # ------------------------------------------------------------------------------------------------------------\n",
    "\n",
    "\n",
    "# pacing_df =  pd.DataFrame(columns= ['How well is the schedule paced?','How well are the tutorials paced?'])\n",
    "# p1 = list()\n",
    "# p2 = list()\n",
    "\n",
    "\n",
    "\n",
    "\n",
    "# for df in data:\n",
    "#     if 'How well is the schedule paced?' in df.columns:\n",
    "#         p1.append(df['How well is the schedule paced?'].values)\n",
    "#         temp_arr = [p1.append(i) for i in df['How well is the schedule paced?'].values]\n",
    "#         p2.append(np.nan * (df['How well is the schedule paced?'].size))\n",
    "# #         p1.append(df['How well is the schedule paced?'].values)\n",
    "\n",
    "#     elif 'How well are the tutorials paced?' in df.columns:\n",
    "#         temp_arr = [p2.append(i) for i in df['How well are the tutorials paced?'].values]\n",
    "#         p2.append(np.nan * (df['How well are the tutorials paced?'].size))\n",
    "\n",
    "        \n",
    "# #         pacing_df[ 'How well are the tutorials paced?'] = pacing_df['How well are the tutorials paced?'] + df['How well are the tutorials paced?']\n",
    "        \n",
    "# p1\n",
    "# # p2"
   ]
  },
  {
   "cell_type": "code",
   "execution_count": 659,
   "metadata": {},
   "outputs": [
    {
     "data": {
      "text/plain": [
       "array(['Apps', 'Intro', 'Apps, Explorer', 'Games', 'VR',\n",
       "       'Games, Explorer'], dtype=object)"
      ]
     },
     "execution_count": 659,
     "metadata": {},
     "output_type": "execute_result"
    }
   ],
   "source": [
    "df_week_8[\"Track\"].unique()"
   ]
  },
  {
   "cell_type": "markdown",
   "metadata": {},
   "source": [
    "### Week 8 (2016)"
   ]
  },
  {
   "cell_type": "code",
   "execution_count": 685,
   "metadata": {},
   "outputs": [],
   "source": [
    "df_week_8 = pd.read_csv(REL_PATH_DIRECTORY + THE_8_PATH)"
   ]
  },
  {
   "cell_type": "code",
   "execution_count": 686,
   "metadata": {
    "scrolled": false
   },
   "outputs": [
    {
     "data": {
      "text/html": [
       "<div>\n",
       "<style scoped>\n",
       "    .dataframe tbody tr th:only-of-type {\n",
       "        vertical-align: middle;\n",
       "    }\n",
       "\n",
       "    .dataframe tbody tr th {\n",
       "        vertical-align: top;\n",
       "    }\n",
       "\n",
       "    .dataframe thead th {\n",
       "        text-align: right;\n",
       "    }\n",
       "</style>\n",
       "<table border=\"1\" class=\"dataframe\">\n",
       "  <thead>\n",
       "    <tr style=\"text-align: right;\">\n",
       "      <th></th>\n",
       "      <th>Rating (Num)</th>\n",
       "      <th>Location</th>\n",
       "      <th>Track</th>\n",
       "      <th>Week</th>\n",
       "      <th>Schedule Pacing</th>\n",
       "      <th>Year</th>\n",
       "    </tr>\n",
       "  </thead>\n",
       "  <tbody>\n",
       "    <tr>\n",
       "      <th>0</th>\n",
       "      <td>10</td>\n",
       "      <td>New York</td>\n",
       "      <td>Apps</td>\n",
       "      <td>8</td>\n",
       "      <td>0</td>\n",
       "      <td>2016</td>\n",
       "    </tr>\n",
       "    <tr>\n",
       "      <th>1</th>\n",
       "      <td>10</td>\n",
       "      <td>San Francisco</td>\n",
       "      <td>Intro</td>\n",
       "      <td>8</td>\n",
       "      <td>0</td>\n",
       "      <td>2016</td>\n",
       "    </tr>\n",
       "    <tr>\n",
       "      <th>2</th>\n",
       "      <td>10</td>\n",
       "      <td>New York</td>\n",
       "      <td>Intro</td>\n",
       "      <td>8</td>\n",
       "      <td>0</td>\n",
       "      <td>2016</td>\n",
       "    </tr>\n",
       "  </tbody>\n",
       "</table>\n",
       "</div>"
      ],
      "text/plain": [
       "   Rating (Num)       Location  Track  Week  Schedule Pacing  Year\n",
       "0            10       New York   Apps     8                0  2016\n",
       "1            10  San Francisco  Intro     8                0  2016\n",
       "2            10       New York  Intro     8                0  2016"
      ]
     },
     "execution_count": 686,
     "metadata": {},
     "output_type": "execute_result"
    }
   ],
   "source": [
    "df_week_8[\"Week\"] = 8\n",
    "df_week_8.rename(columns={\"location\": \"Location\"}, inplace=True)\n",
    "df_week_8.rename(columns={\"How likely is it that you would recommend the Make School Summer Academy to a friend?\": \"Rating (Num)\"}, inplace=True)\n",
    "df_week_8.rename(columns={\"track\": \"Track\"}, inplace=True)\n",
    "\n",
    "df_week_8.drop(columns=['#', 'Network ID', 'Start Date (UTC)', 'Submit Date (UTC)'], inplace=True)\n",
    "\n",
    "\n",
    "\n",
    "track_uniques_week_8 = ['summerApps', 'summerIntro', 'summerApps (4-week)', 'summerGames', 'summerVR', 'summerGames (4-week)']\n",
    "\n",
    "# ['Unspecified', 'Intro', 'Games', 'Apps', 'VR', 'Average:', 'Apps, Explorer', 'Games, Explorer']\n",
    "\n",
    "track_mapper_week_8 = dict(zip(track_uniques_week_8, [\"Apps\", \"Intro\", \"Apps, Explorer\", \"Games\", \"VR\", \"Games, Explorer\" ]))\n",
    "\n",
    "\n",
    "df_week_8['Track'] = df_week_8['Track'].map(track_mapper_week_8)\n",
    "\n",
    "\n",
    "df_week_8['Schedule Pacing'] = 0\n",
    "df_week_8['Year'] = \"2016\"\n",
    "\n",
    "## MAY NEED TO MAP TRACKS IN WEEK 8 TO THE SAME NAMES IN THE_TRUTH\n",
    "\n",
    "# df_week_8[\"Week\"].unique()\n",
    "df_week_8.head(3)\n",
    "\n"
   ]
  },
  {
   "cell_type": "markdown",
   "metadata": {},
   "source": [
    "### 2017"
   ]
  },
  {
   "cell_type": "code",
   "execution_count": 687,
   "metadata": {},
   "outputs": [],
   "source": [
    "FILEPATH = \"../datasets/SA_Feedback_Surveys_FINAL/2017/Student_Feedback_Surveys_Superview.csv\"\n",
    "df_2017 = pd.read_csv(FILEPATH)\n",
    "\n",
    "# 9 or 10 are promoters\n",
    "# 7-8 are passives\n",
    "# 0-6 are detractors\n",
    "\n",
    "# df_2017.head()\n",
    "\n",
    "# Clean Week data to remove redundant \"week\"\n",
    "\n",
    "week_mapper = {\n",
    "    \"Week 1\": 1,\n",
    "    \"Week 2\": 2,\n",
    "    \"Week 3\": 3,\n",
    "    \"Week 4\": 4,\n",
    "    \"Week 5\": 5,\n",
    "    \"Week 6\": 6,\n",
    "    \"Week 7\": 7,\n",
    "    \"Week 8\": 8\n",
    "}\n",
    "\n",
    "df_2017[\"Week\"] = df_2017[\"Week\"].map(week_mapper)\n"
   ]
  },
  {
   "cell_type": "code",
   "execution_count": 688,
   "metadata": {},
   "outputs": [],
   "source": [
    "df_2017[\"Year\"] = \"2017\""
   ]
  },
  {
   "cell_type": "markdown",
   "metadata": {},
   "source": [
    "### Map Pacing Strings to Numerical Values"
   ]
  },
  {
   "cell_type": "code",
   "execution_count": 689,
   "metadata": {},
   "outputs": [],
   "source": [
    "pacing_mapper = {\n",
    "    'Way too slow': 1,\n",
    "    'A little too slow': 2,\n",
    "    'Just right': 3,\n",
    "    'A little too fast': 4,\n",
    "    'Way too fast': 5,\n",
    "    np.nan: 0\n",
    "}\n",
    "\n",
    "df_2017[\"Schedule Pacing\"] = df_2017[\"Schedule Pacing\"].map(pacing_mapper)\n",
    "\n",
    "# df_2017"
   ]
  },
  {
   "cell_type": "code",
   "execution_count": 690,
   "metadata": {},
   "outputs": [],
   "source": [
    "'''Dataframe Cleaning'''\n",
    "\n",
    "df_2017.drop(columns=['ID'], inplace=True)"
   ]
  },
  {
   "cell_type": "code",
   "execution_count": 691,
   "metadata": {},
   "outputs": [
    {
     "data": {
      "text/html": [
       "<div>\n",
       "<style scoped>\n",
       "    .dataframe tbody tr th:only-of-type {\n",
       "        vertical-align: middle;\n",
       "    }\n",
       "\n",
       "    .dataframe tbody tr th {\n",
       "        vertical-align: top;\n",
       "    }\n",
       "\n",
       "    .dataframe thead th {\n",
       "        text-align: right;\n",
       "    }\n",
       "</style>\n",
       "<table border=\"1\" class=\"dataframe\">\n",
       "  <thead>\n",
       "    <tr style=\"text-align: right;\">\n",
       "      <th></th>\n",
       "      <th>Rating (Num)</th>\n",
       "      <th>Location</th>\n",
       "      <th>Week</th>\n",
       "      <th>Track</th>\n",
       "      <th>Year</th>\n",
       "      <th>Schedule Pacing</th>\n",
       "    </tr>\n",
       "  </thead>\n",
       "  <tbody>\n",
       "    <tr>\n",
       "      <th>0</th>\n",
       "      <td>6</td>\n",
       "      <td>Taipei</td>\n",
       "      <td>7</td>\n",
       "      <td>NaN</td>\n",
       "      <td>2016</td>\n",
       "      <td>3.0</td>\n",
       "    </tr>\n",
       "    <tr>\n",
       "      <th>1</th>\n",
       "      <td>8</td>\n",
       "      <td>Taipei</td>\n",
       "      <td>7</td>\n",
       "      <td>NaN</td>\n",
       "      <td>2016</td>\n",
       "      <td>3.0</td>\n",
       "    </tr>\n",
       "    <tr>\n",
       "      <th>2</th>\n",
       "      <td>8</td>\n",
       "      <td>Taipei</td>\n",
       "      <td>7</td>\n",
       "      <td>NaN</td>\n",
       "      <td>2016</td>\n",
       "      <td>3.0</td>\n",
       "    </tr>\n",
       "    <tr>\n",
       "      <th>3</th>\n",
       "      <td>8</td>\n",
       "      <td>Taipei</td>\n",
       "      <td>7</td>\n",
       "      <td>NaN</td>\n",
       "      <td>2016</td>\n",
       "      <td>4.0</td>\n",
       "    </tr>\n",
       "    <tr>\n",
       "      <th>4</th>\n",
       "      <td>10</td>\n",
       "      <td>Taipei</td>\n",
       "      <td>7</td>\n",
       "      <td>NaN</td>\n",
       "      <td>2016</td>\n",
       "      <td>4.0</td>\n",
       "    </tr>\n",
       "  </tbody>\n",
       "</table>\n",
       "</div>"
      ],
      "text/plain": [
       "   Rating (Num) Location  Week Track  Year  Schedule Pacing\n",
       "0             6   Taipei     7   NaN  2016              3.0\n",
       "1             8   Taipei     7   NaN  2016              3.0\n",
       "2             8   Taipei     7   NaN  2016              3.0\n",
       "3             8   Taipei     7   NaN  2016              4.0\n",
       "4            10   Taipei     7   NaN  2016              4.0"
      ]
     },
     "execution_count": 691,
     "metadata": {},
     "output_type": "execute_result"
    }
   ],
   "source": [
    "df_2016_no_week_8.head()"
   ]
  },
  {
   "cell_type": "markdown",
   "metadata": {},
   "source": [
    "## The Truth"
   ]
  },
  {
   "cell_type": "code",
   "execution_count": 692,
   "metadata": {},
   "outputs": [],
   "source": [
    "# Filling NaNs in Track and Location in the_truth\n",
    "the_truth = pd.concat([df_2016_no_week_8, df_2017, df_week_8], ignore_index=True, sort=True)\n",
    "the_truth[\"Track\"] = the_truth[\"Track\"].fillna(\"Unspecified\")\n",
    "the_truth[\"Location\"] = the_truth[\"Location\"].fillna(\"Unspecified\")\n",
    "# the_truth.drop(columns=['Timestamp'], inplace=True)\n",
    "# the_truth.drop(columns=['ID'], inplace=True)"
   ]
  },
  {
   "cell_type": "code",
   "execution_count": 693,
   "metadata": {},
   "outputs": [
    {
     "data": {
      "text/html": [
       "<div>\n",
       "<style scoped>\n",
       "    .dataframe tbody tr th:only-of-type {\n",
       "        vertical-align: middle;\n",
       "    }\n",
       "\n",
       "    .dataframe tbody tr th {\n",
       "        vertical-align: top;\n",
       "    }\n",
       "\n",
       "    .dataframe thead th {\n",
       "        text-align: right;\n",
       "    }\n",
       "</style>\n",
       "<table border=\"1\" class=\"dataframe\">\n",
       "  <thead>\n",
       "    <tr style=\"text-align: right;\">\n",
       "      <th></th>\n",
       "      <th>Location</th>\n",
       "      <th>Rating (Num)</th>\n",
       "      <th>Schedule Pacing</th>\n",
       "      <th>Track</th>\n",
       "      <th>Week</th>\n",
       "      <th>Year</th>\n",
       "    </tr>\n",
       "  </thead>\n",
       "  <tbody>\n",
       "    <tr>\n",
       "      <th>0</th>\n",
       "      <td>Taipei</td>\n",
       "      <td>6</td>\n",
       "      <td>3.0</td>\n",
       "      <td>Unspecified</td>\n",
       "      <td>7</td>\n",
       "      <td>2016</td>\n",
       "    </tr>\n",
       "    <tr>\n",
       "      <th>1</th>\n",
       "      <td>Taipei</td>\n",
       "      <td>8</td>\n",
       "      <td>3.0</td>\n",
       "      <td>Unspecified</td>\n",
       "      <td>7</td>\n",
       "      <td>2016</td>\n",
       "    </tr>\n",
       "    <tr>\n",
       "      <th>2</th>\n",
       "      <td>Taipei</td>\n",
       "      <td>8</td>\n",
       "      <td>3.0</td>\n",
       "      <td>Unspecified</td>\n",
       "      <td>7</td>\n",
       "      <td>2016</td>\n",
       "    </tr>\n",
       "  </tbody>\n",
       "</table>\n",
       "</div>"
      ],
      "text/plain": [
       "  Location Rating (Num)  Schedule Pacing        Track  Week  Year\n",
       "0   Taipei            6              3.0  Unspecified     7  2016\n",
       "1   Taipei            8              3.0  Unspecified     7  2016\n",
       "2   Taipei            8              3.0  Unspecified     7  2016"
      ]
     },
     "execution_count": 693,
     "metadata": {},
     "output_type": "execute_result"
    }
   ],
   "source": [
    "the_truth.head(3)"
   ]
  },
  {
   "cell_type": "code",
   "execution_count": 694,
   "metadata": {},
   "outputs": [
    {
     "data": {
      "text/plain": [
       "array([ 6,  8, 10,  4,  2,  0,  3,  5,  7,  9,  1])"
      ]
     },
     "execution_count": 694,
     "metadata": {},
     "output_type": "execute_result"
    }
   ],
   "source": [
    "# Clean Rating (Num) in the_truth\n",
    "\n",
    "\n",
    "old_rating_values = the_truth[\"Rating (Num)\"].value_counts().keys().tolist()\n",
    "\n",
    "new_rating_value = [8, 8, 9, 10, 10, 7, 6, 6, 5, 4, 9, 0, 4, 3, 2, 7, 0, 2, 1, 5, 3, 0]\n",
    "\n",
    "the_truth = the_truth.replace(old_rating_values, new_rating_value)\n",
    "\n",
    "the_truth[\"Rating (Num)\"].unique()\n",
    "\n",
    "\n",
    "# rating_uniques_the_truth = [6, 8, 10, 4, 2, 0, '3', '4', '5', '6', '7', '8', '9', '10', '0', '1', '2', '#ERROR!', 9, 3, 7, 5]\n",
    "\n",
    "# rating_num_mapper = dict(zip(rating_uniques_2017, [6, 8, 10, 4, 2, 0, 3, 4, 5, 6, 7, 8, 9, 10, 0, 1, 2, 0, 9, 3, 7, 5]))\n",
    "\n",
    "# # len(rating_uniques_the_truth)\n",
    "# # len(rating_num_mapper)\n",
    "\n",
    "# the_truth['Rating (Num)'] = the_truth['Rating (Num)'].map(rating_num_mapper).astype(int)\n",
    "\n",
    "\n",
    "# the_truth[\"Rating (Num)\"].unique()"
   ]
  },
  {
   "cell_type": "code",
   "execution_count": null,
   "metadata": {},
   "outputs": [],
   "source": [
    "\n"
   ]
  },
  {
   "cell_type": "markdown",
   "metadata": {},
   "source": [
    "## Calculate NPS scores"
   ]
  },
  {
   "cell_type": "code",
   "execution_count": 637,
   "metadata": {},
   "outputs": [
    {
     "data": {
      "text/html": [
       "<div>\n",
       "<style scoped>\n",
       "    .dataframe tbody tr th:only-of-type {\n",
       "        vertical-align: middle;\n",
       "    }\n",
       "\n",
       "    .dataframe tbody tr th {\n",
       "        vertical-align: top;\n",
       "    }\n",
       "\n",
       "    .dataframe thead th {\n",
       "        text-align: right;\n",
       "    }\n",
       "</style>\n",
       "<table border=\"1\" class=\"dataframe\">\n",
       "  <thead>\n",
       "    <tr style=\"text-align: right;\">\n",
       "      <th></th>\n",
       "      <th>Location</th>\n",
       "      <th>Rating (Num)</th>\n",
       "      <th>Schedule Pacing</th>\n",
       "      <th>Track</th>\n",
       "      <th>Week</th>\n",
       "    </tr>\n",
       "  </thead>\n",
       "  <tbody>\n",
       "    <tr>\n",
       "      <th>2440</th>\n",
       "      <td>San Francisco</td>\n",
       "      <td>9</td>\n",
       "      <td>0.0</td>\n",
       "      <td>Apps</td>\n",
       "      <td>8</td>\n",
       "    </tr>\n",
       "    <tr>\n",
       "      <th>2441</th>\n",
       "      <td>San Francisco</td>\n",
       "      <td>5</td>\n",
       "      <td>0.0</td>\n",
       "      <td>VR</td>\n",
       "      <td>8</td>\n",
       "    </tr>\n",
       "    <tr>\n",
       "      <th>2442</th>\n",
       "      <td>San Francisco</td>\n",
       "      <td>10</td>\n",
       "      <td>0.0</td>\n",
       "      <td>Games, Explorer</td>\n",
       "      <td>8</td>\n",
       "    </tr>\n",
       "    <tr>\n",
       "      <th>2443</th>\n",
       "      <td>San Francisco</td>\n",
       "      <td>9</td>\n",
       "      <td>0.0</td>\n",
       "      <td>Intro</td>\n",
       "      <td>8</td>\n",
       "    </tr>\n",
       "    <tr>\n",
       "      <th>2444</th>\n",
       "      <td>Sunnyvale</td>\n",
       "      <td>9</td>\n",
       "      <td>0.0</td>\n",
       "      <td>Games</td>\n",
       "      <td>8</td>\n",
       "    </tr>\n",
       "  </tbody>\n",
       "</table>\n",
       "</div>"
      ],
      "text/plain": [
       "           Location  Rating (Num)  Schedule Pacing            Track  Week\n",
       "2440  San Francisco             9              0.0             Apps     8\n",
       "2441  San Francisco             5              0.0               VR     8\n",
       "2442  San Francisco            10              0.0  Games, Explorer     8\n",
       "2443  San Francisco             9              0.0            Intro     8\n",
       "2444      Sunnyvale             9              0.0            Games     8"
      ]
     },
     "execution_count": 637,
     "metadata": {},
     "output_type": "execute_result"
    }
   ],
   "source": [
    "# ALL students during week 7 from 2016-17\n",
    "the_truth_week_7 = the_truth[the_truth[\"Week\"] == 8]\n",
    "the_truth_week_7.tail()"
   ]
  },
  {
   "cell_type": "code",
   "execution_count": 638,
   "metadata": {},
   "outputs": [],
   "source": [
    "df_promoters = the_truth.loc[(the_truth['Rating (Num)'] >= 9) & (the_truth['Week'] == 8)]\n",
    "df_passives = the_truth.loc[(the_truth['Rating (Num)'] >= 7) & (the_truth['Rating (Num)'] <= 8) & (the_truth['Week'] == 8)]\n",
    "df_detractors = the_truth.loc[(the_truth['Rating (Num)'] < 7) & (the_truth['Week'] == 8)]"
   ]
  },
  {
   "cell_type": "code",
   "execution_count": 703,
   "metadata": {},
   "outputs": [
    {
     "data": {
      "text/plain": [
       "6"
      ]
     },
     "execution_count": 703,
     "metadata": {},
     "output_type": "execute_result"
    }
   ],
   "source": [
    "# NPS_score = ((len(df_promoters) - len(detractor_df))/(len(df_detractors) + len(df_passives) + len(df_promoters)))*100\n",
    "\n",
    "# NPS_score\n",
    "\n",
    "\n",
    "# len(df_promoters) #49\n",
    "# len(df_passives) #19\n",
    "# len(df_detractors) #6\n",
    "\n",
    "\n",
    "# df_promoters\n",
    "# df_passives\n",
    "# df_detractors   "
   ]
  },
  {
   "cell_type": "markdown",
   "metadata": {},
   "source": [
    "## Two choices for Pro-Pas-Det Data Divisions:\n",
    "\n",
    "- **Divide** up your promoters, passives, and detractors into _three_ independent DataFrames\n",
    "- **Convert** your logic for promoter, passive, and detractor identifiation into _arguments_ that you can pass to your global DataFrame at anytime"
   ]
  },
  {
   "cell_type": "markdown",
   "metadata": {},
   "source": [
    "# Data Visualizations"
   ]
  },
  {
   "cell_type": "code",
   "execution_count": null,
   "metadata": {},
   "outputs": [],
   "source": []
  },
  {
   "cell_type": "code",
   "execution_count": null,
   "metadata": {},
   "outputs": [],
   "source": []
  },
  {
   "cell_type": "code",
   "execution_count": null,
   "metadata": {},
   "outputs": [],
   "source": [
    "\n",
    "    "
   ]
  },
  {
   "cell_type": "code",
   "execution_count": null,
   "metadata": {},
   "outputs": [],
   "source": []
  },
  {
   "cell_type": "code",
   "execution_count": null,
   "metadata": {},
   "outputs": [],
   "source": []
  },
  {
   "cell_type": "code",
   "execution_count": null,
   "metadata": {},
   "outputs": [],
   "source": []
  },
  {
   "cell_type": "code",
   "execution_count": null,
   "metadata": {},
   "outputs": [],
   "source": []
  },
  {
   "cell_type": "code",
   "execution_count": null,
   "metadata": {},
   "outputs": [],
   "source": []
  },
  {
   "cell_type": "code",
   "execution_count": null,
   "metadata": {},
   "outputs": [],
   "source": []
  },
  {
   "cell_type": "code",
   "execution_count": null,
   "metadata": {},
   "outputs": [],
   "source": []
  }
 ],
 "metadata": {
  "kernelspec": {
   "display_name": "Python 3",
   "language": "python",
   "name": "python3"
  },
  "language_info": {
   "codemirror_mode": {
    "name": "ipython",
    "version": 3
   },
   "file_extension": ".py",
   "mimetype": "text/x-python",
   "name": "python",
   "nbconvert_exporter": "python",
   "pygments_lexer": "ipython3",
   "version": "3.7.0"
  }
 },
 "nbformat": 4,
 "nbformat_minor": 2
}
