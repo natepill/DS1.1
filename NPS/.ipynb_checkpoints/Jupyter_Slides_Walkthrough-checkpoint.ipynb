{
 "cells": [
  {
   "cell_type": "markdown",
   "metadata": {
    "slideshow": {
     "slide_type": "skip"
    }
   },
   "source": [
    "# ⚡️ WALKTHROUGH: Turning Your Notebook into a _Slideshow_! ⚡️\n",
    "<br>\n",
    "\n",
    "---"
   ]
  },
  {
   "cell_type": "markdown",
   "metadata": {
    "slideshow": {
     "slide_type": "skip"
    }
   },
   "source": [
    "## PART 0️⃣: Introduction 👀"
   ]
  },
  {
   "cell_type": "markdown",
   "metadata": {
    "slideshow": {
     "slide_type": "skip"
    }
   },
   "source": [
    "In data science and technical thinking, oftentimes we find that what we have to say is less important than how to say it. \n",
    "\n",
    "When a company's success, a product's development, or a boss's trust is reliant on your ability to effectively communicate project findings or experimental results, you want to make sure the quality and extensiveness of your work – as well as the weight of your insights – is well reflected in the way you present it. \n",
    "\n",
    "This is why _presentation_ is a critical skill that data analysts, engineers, and scientists must understand in order to, well, **be effective at data science**! \n",
    "\n",
    "We've all heard of Powerpoint, Google Slides, Keynote, Prezi, and various other third-party tools to present visual information. \n",
    "\n",
    "### But wouldn't it be cool if we could present our findings in a visually appealing manner directly from our notebook?\n",
    "\n",
    "In this walkthrough, we'll learn how to convert our Jupyter Notebook into a **Jupyter Slideshow** using nothing but our Terminal and our Jupyter Notebook, of course. \n",
    "\n",
    "By the end of this walkthrough, you'll be able to effectively convert every cell of your Jupyter Notebook into a personally stylized slideshow with limited customizability and design!"
   ]
  },
  {
   "cell_type": "markdown",
   "metadata": {
    "slideshow": {
     "slide_type": "skip"
    }
   },
   "source": [
    "## PART 1️⃣: Let's Get Started! 🚀\n",
    "\n",
    "Let's kick this off by creating some quick dummy data and visualizations so that we can illustrate the point of converting Jupyter cells to slides in a slideshow! \n",
    "\n",
    "If you have pre-existing code blocks and visualizations, feel free to use those instead of the examples below!"
   ]
  },
  {
   "cell_type": "markdown",
   "metadata": {
    "slideshow": {
     "slide_type": "skip"
    }
   },
   "source": [
    "## 😃 How to Play with Dummy Data! 😃"
   ]
  },
  {
   "cell_type": "markdown",
   "metadata": {
    "slideshow": {
     "slide_type": "skip"
    }
   },
   "source": [
    "### Step 1: Import Statements! 📚"
   ]
  },
  {
   "cell_type": "code",
   "execution_count": 2,
   "metadata": {
    "slideshow": {
     "slide_type": "skip"
    }
   },
   "outputs": [],
   "source": [
    "# Import Statements, ahoy!\n",
    "\n",
    "import pandas as pd\n",
    "import numpy as np\n",
    "import matplotlib.pyplot as plt\n",
    "\n",
    "# NOTE: If you have newer versions of Anaconda, you do not need the line command below!\n",
    "% matplotlib inline"
   ]
  },
  {
   "cell_type": "markdown",
   "metadata": {
    "slideshow": {
     "slide_type": "skip"
    }
   },
   "source": [
    "Now that we have some basic imports, let's create some dummy data using a quick custom function!"
   ]
  },
  {
   "cell_type": "markdown",
   "metadata": {
    "slideshow": {
     "slide_type": "skip"
    }
   },
   "source": [
    "### Step 2: Custom Function to Create Dummy Data! 🤔"
   ]
  },
  {
   "cell_type": "code",
   "execution_count": 13,
   "metadata": {
    "slideshow": {
     "slide_type": "skip"
    }
   },
   "outputs": [],
   "source": [
    "def create_dummy_data(low=0, high=100, n=50):\n",
    "    \"\"\" Simple function to create dummy scatter data. \"\"\"\n",
    "    return np.random.uniform(low, high, n), np.random.uniform(low, high, n)"
   ]
  },
  {
   "cell_type": "markdown",
   "metadata": {
    "slideshow": {
     "slide_type": "skip"
    }
   },
   "source": [
    "With our custom dummy data function, we can call it to create two quick data distributive variables."
   ]
  },
  {
   "cell_type": "markdown",
   "metadata": {
    "slideshow": {
     "slide_type": "skip"
    }
   },
   "source": [
    "### Step 3: Create Dummy Datasets! 💧"
   ]
  },
  {
   "cell_type": "code",
   "execution_count": 14,
   "metadata": {
    "slideshow": {
     "slide_type": "skip"
    }
   },
   "outputs": [],
   "source": [
    "X, y = create_dummy_data()"
   ]
  },
  {
   "cell_type": "markdown",
   "metadata": {
    "slideshow": {
     "slide_type": "skip"
    }
   },
   "source": [
    "Now let's plot our data using our two data-containing variables!\n",
    "\n",
    "(By now, this process should be pretty basic – we've done it so many times.)"
   ]
  },
  {
   "cell_type": "markdown",
   "metadata": {
    "slideshow": {
     "slide_type": "skip"
    }
   },
   "source": [
    "### Step 4: Plot Scatterplot! 🖼"
   ]
  },
  {
   "cell_type": "code",
   "execution_count": 17,
   "metadata": {
    "slideshow": {
     "slide_type": "skip"
    }
   },
   "outputs": [
    {
     "data": {
      "text/plain": [
       "[<matplotlib.lines.Line2D at 0x116542710>]"
      ]
     },
     "execution_count": 17,
     "metadata": {},
     "output_type": "execute_result"
    },
    {
     "data": {
      "image/png": "[encoded data removed]",
      "text/plain": [
       "<matplotlib.figure.Figure at 0x1164547b8>"
      ]
     },
     "metadata": {},
     "output_type": "display_data"
    }
   ],
   "source": [
    "# NOTE: If you have newer versions of Anaconda, you may need to uncomment the second line of code to show our plot!\n",
    "\n",
    "plt.plot(X, y, \"go\")\n",
    "# plt.show()"
   ]
  },
  {
   "cell_type": "markdown",
   "metadata": {
    "slideshow": {
     "slide_type": "skip"
    }
   },
   "source": [
    "Great! \n",
    "\n",
    "Now that we have some custom functional code, some data attribution, and some visualization work to show, let's play around with the functionalities of Jupyter Slides!"
   ]
  },
  {
   "cell_type": "markdown",
   "metadata": {
    "slideshow": {
     "slide_type": "skip"
    }
   },
   "source": [
    "---\n",
    "\n",
    "## PART 2️⃣: Initializing our Cells with Slideshow Capability 👶🏻"
   ]
  },
  {
   "cell_type": "markdown",
   "metadata": {
    "slideshow": {
     "slide_type": "skip"
    }
   },
   "source": [
    "### Section A: For _Jupyter Notebook_ Users"
   ]
  },
  {
   "cell_type": "markdown",
   "metadata": {
    "slideshow": {
     "slide_type": "skip"
    }
   },
   "source": [
    "At the top of your Jupyter Notebook in the toolbar, you should see an option titled `View`. \n",
    "\n",
    "Select `View`, then navigate to `Cell Toolbar` and then select the option `Slideshow`. \n",
    "\n",
    "If done correctly, you should now see a grey bar above every cell with a option titled `Slide Type`. "
   ]
  },
  {
   "cell_type": "markdown",
   "metadata": {
    "slideshow": {
     "slide_type": "skip"
    }
   },
   "source": [
    "### Section B: For _Jupyter Lab_ Users"
   ]
  },
  {
   "cell_type": "markdown",
   "metadata": {
    "slideshow": {
     "slide_type": "skip"
    }
   },
   "source": [
    "On the left side of your Jupyter Lab configuration, you should see five tabs on the side of your screen. \n",
    "\n",
    "One of the tabs should be titled `Cell Tools`. \n",
    "\n",
    "Select `Cell Tools`.\n",
    "\n",
    "If done correctly, you should now see a sidebar panel that displays the current cell's text/data that you have currently selected with your cursor, as well as three options: `Slide Type`, `Raw NBConvert Format`, and `Edit Metadata`."
   ]
  },
  {
   "cell_type": "markdown",
   "metadata": {
    "slideshow": {
     "slide_type": "skip"
    }
   },
   "source": [
    "---\n",
    "\n",
    "## PART 3️⃣: Customizing our Cell-Slides 🎨"
   ]
  },
  {
   "cell_type": "markdown",
   "metadata": {
    "slideshow": {
     "slide_type": "skip"
    }
   },
   "source": [
    "For either user, you should now have a clickable dropdown option called `Slide Type` for every cell. If you're editing this notebook, each cell should be configured to set `Slide Type` equal to **Skip** for convenience.\n",
    "\n",
    "Follow the following instructions carefully.\n",
    "\n",
    "(Feel free to work with a partner to ensure you're getting the same results!)"
   ]
  },
  {
   "cell_type": "markdown",
   "metadata": {
    "slideshow": {
     "slide_type": "skip"
    }
   },
   "source": [
    "### Go to the Cell Containing \"How to Play with Dummy Data!\"\n",
    "\n",
    "For the cell containing the text above, select the Slide Type: **Slide**."
   ]
  },
  {
   "cell_type": "markdown",
   "metadata": {
    "slideshow": {
     "slide_type": "skip"
    }
   },
   "source": [
    "### Go to Every Cell Containing \"Step 1-4\". \n",
    "\n",
    "For each cell containing the text `Step {#}`, select the Slide Type: **Slide**. "
   ]
  },
  {
   "cell_type": "markdown",
   "metadata": {
    "slideshow": {
     "slide_type": "skip"
    }
   },
   "source": [
    "### Go to Every Cell Containing Code Below Each Step (1-4).\n",
    "\n",
    "For each cell containing code, select the Slide Type: **Sub-Slide**. "
   ]
  },
  {
   "cell_type": "markdown",
   "metadata": {
    "slideshow": {
     "slide_type": "skip"
    }
   },
   "source": [
    "### Go to Every Other Cell in the Notebook, Including These Ones.\n",
    "\n",
    "For every other cell in your notebook, select the Slide Type: **Skip**. "
   ]
  },
  {
   "cell_type": "markdown",
   "metadata": {
    "slideshow": {
     "slide_type": "skip"
    }
   },
   "source": [
    "---\n",
    "\n",
    "## PART 4️⃣: Displaying our Slideshow 🎭"
   ]
  },
  {
   "cell_type": "markdown",
   "metadata": {
    "slideshow": {
     "slide_type": "skip"
    }
   },
   "source": [
    "If everything was done correctly, every cell in your notebook should now have a defined Slide Type among the options: _Slide_, _Sub-Slide_, and _Skip_. \n",
    "\n",
    "**Please double-check to make sure every cell in your notebook has a defined Slide Type!**\n",
    "\n",
    "NOTE: If you try to run the command below to create your slideshow while all cells are defined as skippable, you'll get the following error:\n",
    "\n",
    "`ValueError: All cells are hidden, cannot create slideshow`\n",
    "\n",
    "Now that we've initialized every cell in our notebook, it's time to create our slideshow!"
   ]
  },
  {
   "cell_type": "markdown",
   "metadata": {
    "slideshow": {
     "slide_type": "skip"
    }
   },
   "source": [
    "### Run the following command in your Terminal:\n",
    "\n",
    "`jupyter nbconvert {NOTEBOOK_NAME}.ipynb --to slides --post serve --SlidesExporter.reveal_scroll=True`\n",
    "\n",
    "NOTE: Make sure you are at the parent directory of your notebook in the Terminal, otherwise you will have to pass the relative directory path to your `{NOTEBOOK_NAME}.ipynb` argument!"
   ]
  },
  {
   "cell_type": "markdown",
   "metadata": {
    "slideshow": {
     "slide_type": "skip"
    }
   },
   "source": [
    "If everything went well, you should now be able to see a new tab in your browser that displays your notebook's cells as slides and sub-slides in a presentation format!\n",
    "\n",
    "**Slides** represent independent slide displays.\n",
    "\n",
    "**Sub-Slides** represent dependent slides off of main slides that you can access using the _up-down arrows_. \n",
    "\n",
    "**Skips** represent cells that you do not wish to render in your presentation.\n",
    "\n",
    "Your presentation should now have five major slides: the first being a title slide and the final four being stepwise slides immediately followed by code blocks and a cool visualization!"
   ]
  },
  {
   "cell_type": "markdown",
   "metadata": {
    "slideshow": {
     "slide_type": "skip"
    }
   },
   "source": [
    "---\n",
    "\n",
    "<br>\n",
    "\n",
    "# ❗️😮❗️😮❗️😮❗️😮❗️😮❗️😮❗️😮❗️😮❗️😮❗️😮❗️\n",
    "# You are required to turn your _NPS Project_ Notebook into a Jupyter Slideshow!\n",
    "# ❗️😮❗️😮❗️😮❗️😮❗️😮❗️😮❗️😮❗️😮❗️😮❗️😮❗️\n",
    "\n",
    "<br>"
   ]
  },
  {
   "cell_type": "markdown",
   "metadata": {
    "slideshow": {
     "slide_type": "skip"
    }
   },
   "source": [
    "---\n",
    "\n",
    "## PART 5️⃣: Stretch Challenges 🖐🏽"
   ]
  },
  {
   "cell_type": "markdown",
   "metadata": {
    "slideshow": {
     "slide_type": "skip"
    }
   },
   "source": [
    "- Test the remaining two Slide Type formats: _Fragment_ and _Notes_. Take note of their function and when/why to use them.\n",
    "\n",
    "- Create other visual data structures (e.g. _Pandas DataFrame_) and attempt to render them in Jupyter Slides. \n",
    "\n",
    "- Play around with Markdown to externally stylize your presentation.\n",
    "\n",
    "- Play around with the `SlidesExporter` settings to internally stylize your presentation. (NOTE: It may be helpful to know that Jupyter Slides run off of an instance of `reveal.js`.)\n",
    "\n",
    "- Create custom function in your Bash/Zsh profile to allow for quick conversion of a Jupyter Notebook to a Slideshow!\n",
    "\n",
    "- Have fun with it! Create something beautiful! 😊"
   ]
  }
 ],
 "metadata": {
  "kernelspec": {
   "display_name": "Python 3",
   "language": "python",
   "name": "python3"
  },
  "language_info": {
   "codemirror_mode": {
    "name": "ipython",
    "version": 3
   },
   "file_extension": ".py",
   "mimetype": "text/x-python",
   "name": "python",
   "nbconvert_exporter": "python",
   "pygments_lexer": "ipython3",
   "version": "3.7.0"
  }
 },
 "nbformat": 4,
 "nbformat_minor": 2
}
